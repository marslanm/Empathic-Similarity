{
 "cells": [
  {
   "cell_type": "code",
   "execution_count": 1,
   "id": "2d9aa197-9952-4b1a-9659-e9674e6415fb",
   "metadata": {
    "tags": []
   },
   "outputs": [],
   "source": [
    "import pandas as pd\n",
    "import torch\n",
    "import numpy as np\n",
    "import scipy\n",
    "from sklearn import metrics\n",
    "import matplotlib.pyplot as plt"
   ]
  },
  {
   "cell_type": "code",
   "execution_count": 2,
   "id": "7a151465-3390-4c14-b44a-1de25aa946e3",
   "metadata": {
    "tags": []
   },
   "outputs": [],
   "source": [
    "data_path = './data'"
   ]
  },
  {
   "cell_type": "code",
   "execution_count": 3,
   "id": "9d909484-e1bb-4252-ac06-deef97ad4cf4",
   "metadata": {
    "tags": []
   },
   "outputs": [],
   "source": [
    "train_df = pd.read_csv(f'{data_path}/PAIRS (train).csv')\n",
    "dev_df = pd.read_csv(f'{data_path}/PAIRS (dev).csv')\n",
    "test_df = pd.read_csv(f'{data_path}/PAIRS (test).csv')"
   ]
  },
  {
   "cell_type": "code",
   "execution_count": 4,
   "id": "0a5512fe-4e3d-470f-8c3e-07fc44e2ed1f",
   "metadata": {
    "tags": []
   },
   "outputs": [],
   "source": [
    "label_columns = 'similarity_empathy_human_AGG\tsimilarity_event_human_AGG\tsimilarity_emotion_human_AGG\tsimilarity_moral_human_AGG'.split()"
   ]
  },
  {
   "cell_type": "code",
   "execution_count": 5,
   "id": "a334b426-242b-4dab-b9d4-ed06fe9e5710",
   "metadata": {
    "tags": []
   },
   "outputs": [],
   "source": [
    "text_preprocess = lambda x:x.strip().replace('\\n',' ')"
   ]
  },
  {
   "cell_type": "code",
   "execution_count": 6,
   "id": "4b980059-f1a6-4ed6-901f-4609deddcd99",
   "metadata": {
    "tags": []
   },
   "outputs": [],
   "source": [
    "# text_columns = ['story_A', 'story_B']\n",
    "text_columns = ['story_A_summary', 'story_B_summary']\n",
    "label_column = [label_columns[0]]"
   ]
  },
  {
   "cell_type": "code",
   "execution_count": 7,
   "id": "711cbbfc-5359-4caf-9795-27d0dd618fba",
   "metadata": {
    "tags": []
   },
   "outputs": [],
   "source": [
    "score_conversion_in_use = \"01_continue\""
   ]
  },
  {
   "cell_type": "code",
   "execution_count": 8,
   "id": "2d2394c4-a2e1-42ed-8db0-7401343b922e",
   "metadata": {
    "tags": []
   },
   "outputs": [],
   "source": [
    "score_conversion_funcs = {\n",
    "    \"original_paper\": lambda x: x / 4,\n",
    "    \"01_continue\": lambda x:(x - 1) / 3,\n",
    "}\n",
    "score_recover_funcs = {\n",
    "    \"original_paper\": lambda x: x * 4,\n",
    "    \"01_continue\": lambda x:(x * 3) + 1,\n",
    "}"
   ]
  },
  {
   "cell_type": "code",
   "execution_count": 9,
   "id": "660a0fed-93ee-40a7-8d0f-61574b69797f",
   "metadata": {
    "tags": []
   },
   "outputs": [],
   "source": [
    "score_conversion_func = score_conversion_funcs.get(score_conversion_in_use)\n",
    "score_recover_func = score_recover_funcs.get(score_conversion_in_use)"
   ]
  },
  {
   "cell_type": "code",
   "execution_count": 10,
   "id": "75e34b34-70e8-4777-925c-907b5029678e",
   "metadata": {
    "tags": []
   },
   "outputs": [],
   "source": [
    "def create_data(df, text_pps, score_conversion_funcs):\n",
    "    required_columns = text_columns + label_column\n",
    "    df = df[required_columns].rename(columns={ k:v for k,v in zip(required_columns,['sentence1', 'sentence2','score'])})\n",
    "    for i in [1,2]:\n",
    "        df[f'sentence{i}'] = df[f'sentence{i}'].apply(text_pps)\n",
    "    df['score'] = score_conversion_funcs(df['score'])\n",
    "    return df"
   ]
  },
  {
   "cell_type": "code",
   "execution_count": 11,
   "id": "efc408c7-5fc2-4130-afb8-99084dac085b",
   "metadata": {
    "tags": []
   },
   "outputs": [],
   "source": [
    "train_df = create_data(train_df, text_preprocess, score_conversion_func)\n",
    "dev_df = create_data(dev_df, text_preprocess, score_conversion_func)\n",
    "test_df = create_data(test_df, text_preprocess, score_conversion_func)"
   ]
  },
  {
   "cell_type": "code",
   "execution_count": 12,
   "id": "f3d3fac2-6ce2-4e4d-a940-d07d07cf55fc",
   "metadata": {
    "tags": []
   },
   "outputs": [],
   "source": [
    "from torch.utils.data import DataLoader\n",
    "import math\n",
    "from sentence_transformers import models, losses, datasets,  util\n",
    "from sentence_transformers import LoggingHandler, SentenceTransformer, util, InputExample\n",
    "from sentence_transformers.evaluation import EmbeddingSimilarityEvaluator\n",
    "import logging\n",
    "from datetime import datetime"
   ]
  },
  {
   "cell_type": "code",
   "execution_count": 13,
   "id": "dd2eb7ed-a31e-4e8c-84b9-34bba867dd92",
   "metadata": {
    "tags": []
   },
   "outputs": [],
   "source": [
    "# model_name = \"sentence-transformers/multi-qa-mpnet-base-dot-v1\"\n",
    "model_name = \"FacebookAI/roberta-large\"\n",
    "train_batch_size = 64\n",
    "num_epochs = 3\n",
    "max_seq_length = 512"
   ]
  },
  {
   "cell_type": "code",
   "execution_count": 14,
   "id": "1754d452-ceb9-409e-a1cc-1ffe83f69195",
   "metadata": {
    "tags": []
   },
   "outputs": [
    {
     "name": "stderr",
     "output_type": "stream",
     "text": [
      "Some weights of RobertaModel were not initialized from the model checkpoint at FacebookAI/roberta-large and are newly initialized: ['roberta.pooler.dense.bias', 'roberta.pooler.dense.weight']\n",
      "You should probably TRAIN this model on a down-stream task to be able to use it for predictions and inference.\n"
     ]
    }
   ],
   "source": [
    "word_embedding_model = models.Transformer(model_name, max_seq_length=max_seq_length)\n",
    "pooling_model = models.Pooling(word_embedding_model.get_word_embedding_dimension())\n",
    "model = SentenceTransformer(modules=[word_embedding_model, pooling_model])"
   ]
  },
  {
   "cell_type": "code",
   "execution_count": 15,
   "id": "d3bfd444-d876-406e-aa5a-ac7157d037ce",
   "metadata": {
    "tags": []
   },
   "outputs": [],
   "source": [
    "model_save_path = \"./contrastive_exp/\""
   ]
  },
  {
   "cell_type": "code",
   "execution_count": 16,
   "id": "17d6c0f2-6929-4617-aba4-3443b3e51991",
   "metadata": {
    "tags": []
   },
   "outputs": [],
   "source": [
    "!rm {model_save_path}/* -rf"
   ]
  },
  {
   "cell_type": "code",
   "execution_count": 17,
   "id": "67fd090e-b2c2-40a0-9394-065fcf356bb8",
   "metadata": {
    "tags": []
   },
   "outputs": [],
   "source": [
    "train_data = train_df.to_dict(orient='records')"
   ]
  },
  {
   "cell_type": "code",
   "execution_count": 18,
   "id": "37df4a1d-f1e8-46b5-8b59-63b9bca1a3ec",
   "metadata": {
    "tags": []
   },
   "outputs": [],
   "source": [
    "bin_threshold = train_df['score'].median()"
   ]
  },
  {
   "cell_type": "code",
   "execution_count": 19,
   "id": "657e6edc-8611-45e6-ac66-4ec0d92349a1",
   "metadata": {
    "tags": []
   },
   "outputs": [],
   "source": [
    "label2id = { k:v for v,k in enumerate(sorted(score_recover_func(train_df['score'].sort_values().unique()).tolist()))}"
   ]
  },
  {
   "cell_type": "code",
   "execution_count": 36,
   "id": "529bb68f-a453-41a5-950c-35ce0cb5b133",
   "metadata": {
    "tags": []
   },
   "outputs": [],
   "source": [
    "label_conversion = {\n",
    "    \"none\": lambda x:x,\n",
    "    \"binned\": lambda x: int(x > bin_threshold),\n",
    "    \"class\": lambda x: label2id[score_recover_func(x)]\n",
    "}"
   ]
  },
  {
   "cell_type": "code",
   "execution_count": 37,
   "id": "82327a8d-9df7-4583-b38a-cb5c997b34c3",
   "metadata": {
    "tags": []
   },
   "outputs": [],
   "source": [
    "available_loss_functions = {\n",
    "    'CosineSimilarityLoss': (\n",
    "        losses.CosineSimilarityLoss(model), \n",
    "        label_conversion.get('none')\n",
    "    ),\n",
    "    'CoSENTLoss': (\n",
    "        losses.CoSENTLoss(model, scale=1.0), \n",
    "        label_conversion.get('none')\n",
    "    ),\n",
    "    'AnglELoss': (\n",
    "        losses.AnglELoss(model, scale=1.0), \n",
    "        label_conversion.get('none')\n",
    "    ),\n",
    "    'OnlineContrastiveLoss': (\n",
    "        losses.OnlineContrastiveLoss(model,margin=0.8),\n",
    "        label_conversion.get('binned')\n",
    "    ),\n",
    "    'ContrastiveLoss': (\n",
    "        losses.ContrastiveLoss(model,margin=0.8),\n",
    "        label_conversion.get('binned')\n",
    "    ),\n",
    "    'SoftmaxLoss': (\n",
    "        losses.SoftmaxLoss(\n",
    "            model=model,\n",
    "            sentence_embedding_dimension=model.get_sentence_embedding_dimension(),\n",
    "            num_labels=len(label2id)\n",
    "        ),\n",
    "        label_conversion.get(\"class\")\n",
    "    )\n",
    "}"
   ]
  },
  {
   "cell_type": "code",
   "execution_count": 38,
   "id": "d1afec5c-4af9-4641-a7a5-e283fc094ab4",
   "metadata": {
    "tags": []
   },
   "outputs": [],
   "source": [
    "loss_in_use = \"CosineSimilarityLoss\""
   ]
  },
  {
   "cell_type": "code",
   "execution_count": 39,
   "id": "c31d33bf-9894-4732-85b9-2f876763e7c1",
   "metadata": {
    "tags": []
   },
   "outputs": [],
   "source": [
    "loss_func, label_transform = available_loss_functions.get(loss_in_use)"
   ]
  },
  {
   "cell_type": "code",
   "execution_count": 40,
   "id": "dbef4c48-0f67-40cd-b02b-917b971cf3cb",
   "metadata": {
    "tags": []
   },
   "outputs": [],
   "source": [
    "train_samples = []\n",
    "for x in train_data:\n",
    "    s1,s2,score = list(x.values())\n",
    "    train_samples.append(InputExample(texts=[s1, s2], label=label_transform(score)))\n"
   ]
  },
  {
   "cell_type": "code",
   "execution_count": 42,
   "id": "bb4a5211-04ef-4953-9d3d-29a8be918c13",
   "metadata": {},
   "outputs": [],
   "source": [
    "train_dataloader = torch.utils.data.DataLoader(train_samples, batch_size=train_batch_size, shuffle=True)"
   ]
  },
  {
   "cell_type": "code",
   "execution_count": 43,
   "id": "a98808a5-9430-4ac0-9c8c-371931be0c5f",
   "metadata": {
    "tags": []
   },
   "outputs": [],
   "source": [
    "dev_data = dev_df.to_dict(orient='records')"
   ]
  },
  {
   "cell_type": "code",
   "execution_count": 44,
   "id": "0d23196b-ab08-4876-bfae-aa2a4e84e534",
   "metadata": {
    "tags": []
   },
   "outputs": [],
   "source": [
    "dev_samples = []\n",
    "for x in dev_data:\n",
    "    s1,s2,score = list(x.values())\n",
    "    dev_samples.append(InputExample(texts=[s1, s2], label=score))"
   ]
  },
  {
   "cell_type": "code",
   "execution_count": 45,
   "id": "804f4283-78fd-4ba6-9a7f-c39508e534b9",
   "metadata": {
    "tags": []
   },
   "outputs": [],
   "source": [
    "test_data = test_df.to_dict(orient='records')"
   ]
  },
  {
   "cell_type": "code",
   "execution_count": 46,
   "id": "64dbcd35-aa7b-491e-ab07-0511da10468d",
   "metadata": {
    "tags": []
   },
   "outputs": [],
   "source": [
    "test_samples = []\n",
    "for x in test_data:\n",
    "    s1,s2,score = list(x.values())\n",
    "    test_samples.append(InputExample(texts=[s1, s2], label=score))"
   ]
  },
  {
   "cell_type": "code",
   "execution_count": 47,
   "id": "1c485713-d2b7-4196-83a9-56ec25a910e4",
   "metadata": {
    "tags": []
   },
   "outputs": [],
   "source": [
    "dev_evaluator = EmbeddingSimilarityEvaluator.from_input_examples(\n",
    "    dev_samples, batch_size=train_batch_size, name=\"emp-dev\"\n",
    ")\n",
    "test_evaluator = EmbeddingSimilarityEvaluator.from_input_examples(\n",
    "    test_samples, batch_size=train_batch_size, name=\"emp-test\"\n",
    ")\n"
   ]
  },
  {
   "cell_type": "code",
   "execution_count": 48,
   "id": "02c773f4-ee1c-4335-bfba-bc71d6401816",
   "metadata": {
    "tags": []
   },
   "outputs": [],
   "source": [
    "warmup_steps = math.ceil(len(train_dataloader) * num_epochs * 0.3)"
   ]
  },
  {
   "cell_type": "code",
   "execution_count": 49,
   "id": "f1a2f890-709e-426a-93c6-69fc5071c10d",
   "metadata": {
    "tags": []
   },
   "outputs": [
    {
     "data": {
      "text/plain": [
       "22"
      ]
     },
     "execution_count": 49,
     "metadata": {},
     "output_type": "execute_result"
    }
   ],
   "source": [
    "warmup_steps"
   ]
  },
  {
   "cell_type": "code",
   "execution_count": 50,
   "id": "be784933-d207-400f-905c-5d0847b137cc",
   "metadata": {
    "tags": []
   },
   "outputs": [
    {
     "data": {
      "text/plain": [
       "24"
      ]
     },
     "execution_count": 50,
     "metadata": {},
     "output_type": "execute_result"
    }
   ],
   "source": [
    "len(train_dataloader)"
   ]
  },
  {
   "cell_type": "code",
   "execution_count": 51,
   "id": "fcc308cc-9a82-4d51-b052-230aacb72d13",
   "metadata": {
    "tags": []
   },
   "outputs": [
    {
     "data": {
      "text/plain": [
       "240"
      ]
     },
     "execution_count": 51,
     "metadata": {},
     "output_type": "execute_result"
    }
   ],
   "source": [
    "int(len(train_dataloader) * 10)"
   ]
  },
  {
   "cell_type": "code",
   "execution_count": 52,
   "id": "30195437-ca67-4e43-b6f5-e9e388dc7ae6",
   "metadata": {
    "tags": []
   },
   "outputs": [
    {
     "data": {
      "application/vnd.jupyter.widget-view+json": {
       "model_id": "1361a7f9b4774e86a9e4593bdf815031",
       "version_major": 2,
       "version_minor": 0
      },
      "text/plain": [
       "Epoch:   0%|          | 0/3 [00:00<?, ?it/s]"
      ]
     },
     "metadata": {},
     "output_type": "display_data"
    },
    {
     "data": {
      "application/vnd.jupyter.widget-view+json": {
       "model_id": "af4333f582f84b48a77f7380213d3bc0",
       "version_major": 2,
       "version_minor": 0
      },
      "text/plain": [
       "Iteration:   0%|          | 0/24 [00:00<?, ?it/s]"
      ]
     },
     "metadata": {},
     "output_type": "display_data"
    },
    {
     "data": {
      "application/vnd.jupyter.widget-view+json": {
       "model_id": "418d37ca42cc40fe90eef672aeeb4d4b",
       "version_major": 2,
       "version_minor": 0
      },
      "text/plain": [
       "Iteration:   0%|          | 0/24 [00:00<?, ?it/s]"
      ]
     },
     "metadata": {},
     "output_type": "display_data"
    },
    {
     "data": {
      "application/vnd.jupyter.widget-view+json": {
       "model_id": "093c543733bb4ead81a0b00f9e49f229",
       "version_major": 2,
       "version_minor": 0
      },
      "text/plain": [
       "Iteration:   0%|          | 0/24 [00:00<?, ?it/s]"
      ]
     },
     "metadata": {},
     "output_type": "display_data"
    }
   ],
   "source": [
    "\n",
    "\n",
    "# Configure the training\n",
    "  # 10% of train data for warm-up\n",
    "\n",
    "\n",
    "# Train the model\n",
    "model.fit(\n",
    "    train_objectives=[(train_dataloader, loss_func)],\n",
    "    evaluator=dev_evaluator,\n",
    "    epochs=num_epochs,\n",
    "    evaluation_steps=15,\n",
    "    warmup_steps=warmup_steps,\n",
    "    output_path=model_save_path,\n",
    "    use_amp=True,  # Set to True, if your GPU supports FP16 operations\n",
    ")\n"
   ]
  },
  {
   "cell_type": "code",
   "execution_count": 53,
   "id": "cd76d039-c000-413d-8e24-5b32cdf63a94",
   "metadata": {
    "tags": []
   },
   "outputs": [],
   "source": [
    "def eval_final(data_split, evaluator, score_recover_func, split_name='dev'):\n",
    "    evaluator(model, model_save_path)\n",
    "    output_name = !ls {model_save_path}/similarity_evaluation_emp-{split_name}_results.csv\n",
    "    sp_df = pd.read_csv(output_name[0])['cosine_pearson\tcosine_spearman'.split()]\n",
    "    s1 = list(map(lambda x:x['sentence1'], data_split))\n",
    "    s2 = list(map(lambda x:x['sentence2'], data_split))\n",
    "    score = list(map(lambda x:x['score'], data_split))\n",
    "    bin_labels = (score_recover_func(np.array(score)) >2.5).astype(np.int64)\n",
    "    s1_embeddings = model.encode(s1)\n",
    "    s2_embeddings = model.encode(s2)\n",
    "    predicted_cosine_scores = util.pairwise_cos_sim(s1_embeddings, s2_embeddings)\n",
    "    s = scipy.stats.spearmanr(score, predicted_cosine_scores.numpy())\n",
    "    p = scipy.stats.pearsonr(score, predicted_cosine_scores.numpy())\n",
    "    pred_labels = (score_recover_func(predicted_cosine_scores) >2.5).long().numpy()\n",
    "    cls_df = pd.DataFrame(metrics.classification_report(bin_labels, pred_labels,output_dict=True)).T\n",
    "    return cls_df, sp_df, predicted_cosine_scores, score, pred_labels, bin_labels"
   ]
  },
  {
   "cell_type": "code",
   "execution_count": 54,
   "id": "9eab591d-97b8-47ba-b8be-aeb20cfc9ecf",
   "metadata": {
    "tags": []
   },
   "outputs": [
    {
     "name": "stderr",
     "output_type": "stream",
     "text": [
      "huggingface/tokenizers: The current process just got forked, after parallelism has already been used. Disabling parallelism to avoid deadlocks...\n",
      "To disable this warning, you can either:\n",
      "\t- Avoid using `tokenizers` before the fork if possible\n",
      "\t- Explicitly set the environment variable TOKENIZERS_PARALLELISM=(true | false)\n",
      "/home/minghanwu/.conda/envs/py38/lib/python3.8/site-packages/sklearn/metrics/_classification.py:1344: UndefinedMetricWarning: Precision and F-score are ill-defined and being set to 0.0 in labels with no predicted samples. Use `zero_division` parameter to control this behavior.\n",
      "  _warn_prf(average, modifier, msg_start, len(result))\n",
      "/home/minghanwu/.conda/envs/py38/lib/python3.8/site-packages/sklearn/metrics/_classification.py:1344: UndefinedMetricWarning: Precision and F-score are ill-defined and being set to 0.0 in labels with no predicted samples. Use `zero_division` parameter to control this behavior.\n",
      "  _warn_prf(average, modifier, msg_start, len(result))\n",
      "/home/minghanwu/.conda/envs/py38/lib/python3.8/site-packages/sklearn/metrics/_classification.py:1344: UndefinedMetricWarning: Precision and F-score are ill-defined and being set to 0.0 in labels with no predicted samples. Use `zero_division` parameter to control this behavior.\n",
      "  _warn_prf(average, modifier, msg_start, len(result))\n"
     ]
    }
   ],
   "source": [
    "dev_cls_df, dev_sp_df, predicted_dev_scores, dev_score, pred_dev_labels, gt_dev_labels = eval_final(dev_data, dev_evaluator, score_recover_func, split_name='dev')"
   ]
  },
  {
   "cell_type": "code",
   "execution_count": 55,
   "id": "6a84362e-14c1-48be-bc5c-496713e3538c",
   "metadata": {
    "tags": []
   },
   "outputs": [
    {
     "name": "stderr",
     "output_type": "stream",
     "text": [
      "huggingface/tokenizers: The current process just got forked, after parallelism has already been used. Disabling parallelism to avoid deadlocks...\n",
      "To disable this warning, you can either:\n",
      "\t- Avoid using `tokenizers` before the fork if possible\n",
      "\t- Explicitly set the environment variable TOKENIZERS_PARALLELISM=(true | false)\n",
      "/home/minghanwu/.conda/envs/py38/lib/python3.8/site-packages/sklearn/metrics/_classification.py:1344: UndefinedMetricWarning: Precision and F-score are ill-defined and being set to 0.0 in labels with no predicted samples. Use `zero_division` parameter to control this behavior.\n",
      "  _warn_prf(average, modifier, msg_start, len(result))\n",
      "/home/minghanwu/.conda/envs/py38/lib/python3.8/site-packages/sklearn/metrics/_classification.py:1344: UndefinedMetricWarning: Precision and F-score are ill-defined and being set to 0.0 in labels with no predicted samples. Use `zero_division` parameter to control this behavior.\n",
      "  _warn_prf(average, modifier, msg_start, len(result))\n",
      "/home/minghanwu/.conda/envs/py38/lib/python3.8/site-packages/sklearn/metrics/_classification.py:1344: UndefinedMetricWarning: Precision and F-score are ill-defined and being set to 0.0 in labels with no predicted samples. Use `zero_division` parameter to control this behavior.\n",
      "  _warn_prf(average, modifier, msg_start, len(result))\n"
     ]
    }
   ],
   "source": [
    "test_cls_df, test_sp_df, predicted_test_scores, test_score, pred_test_labels, gt_test_labels = eval_final(test_data, test_evaluator, score_recover_func, split_name='test')"
   ]
  },
  {
   "cell_type": "code",
   "execution_count": 56,
   "id": "0067cb19-688e-4c46-835c-97e868e8a1b4",
   "metadata": {
    "tags": []
   },
   "outputs": [
    {
     "data": {
      "text/html": [
       "<div>\n",
       "<style scoped>\n",
       "    .dataframe tbody tr th:only-of-type {\n",
       "        vertical-align: middle;\n",
       "    }\n",
       "\n",
       "    .dataframe tbody tr th {\n",
       "        vertical-align: top;\n",
       "    }\n",
       "\n",
       "    .dataframe thead th {\n",
       "        text-align: right;\n",
       "    }\n",
       "</style>\n",
       "<table border=\"1\" class=\"dataframe\">\n",
       "  <thead>\n",
       "    <tr style=\"text-align: right;\">\n",
       "      <th></th>\n",
       "      <th>cosine_pearson</th>\n",
       "      <th>cosine_spearman</th>\n",
       "    </tr>\n",
       "  </thead>\n",
       "  <tbody>\n",
       "    <tr>\n",
       "      <th>0</th>\n",
       "      <td>-0.084946</td>\n",
       "      <td>-0.088304</td>\n",
       "    </tr>\n",
       "  </tbody>\n",
       "</table>\n",
       "</div>"
      ],
      "text/plain": [
       "   cosine_pearson  cosine_spearman\n",
       "0       -0.084946        -0.088304"
      ]
     },
     "execution_count": 56,
     "metadata": {},
     "output_type": "execute_result"
    }
   ],
   "source": [
    "dev_sp_df"
   ]
  },
  {
   "cell_type": "code",
   "execution_count": 57,
   "id": "dcd83253-7575-44ba-ab1e-fbcde07c02b6",
   "metadata": {
    "tags": []
   },
   "outputs": [
    {
     "data": {
      "text/html": [
       "<div>\n",
       "<style scoped>\n",
       "    .dataframe tbody tr th:only-of-type {\n",
       "        vertical-align: middle;\n",
       "    }\n",
       "\n",
       "    .dataframe tbody tr th {\n",
       "        vertical-align: top;\n",
       "    }\n",
       "\n",
       "    .dataframe thead th {\n",
       "        text-align: right;\n",
       "    }\n",
       "</style>\n",
       "<table border=\"1\" class=\"dataframe\">\n",
       "  <thead>\n",
       "    <tr style=\"text-align: right;\">\n",
       "      <th></th>\n",
       "      <th>precision</th>\n",
       "      <th>recall</th>\n",
       "      <th>f1-score</th>\n",
       "      <th>support</th>\n",
       "    </tr>\n",
       "  </thead>\n",
       "  <tbody>\n",
       "    <tr>\n",
       "      <th>0</th>\n",
       "      <td>0.0000</td>\n",
       "      <td>0.00</td>\n",
       "      <td>0.000000</td>\n",
       "      <td>62.00</td>\n",
       "    </tr>\n",
       "    <tr>\n",
       "      <th>1</th>\n",
       "      <td>0.3800</td>\n",
       "      <td>1.00</td>\n",
       "      <td>0.550725</td>\n",
       "      <td>38.00</td>\n",
       "    </tr>\n",
       "    <tr>\n",
       "      <th>accuracy</th>\n",
       "      <td>0.3800</td>\n",
       "      <td>0.38</td>\n",
       "      <td>0.380000</td>\n",
       "      <td>0.38</td>\n",
       "    </tr>\n",
       "    <tr>\n",
       "      <th>macro avg</th>\n",
       "      <td>0.1900</td>\n",
       "      <td>0.50</td>\n",
       "      <td>0.275362</td>\n",
       "      <td>100.00</td>\n",
       "    </tr>\n",
       "    <tr>\n",
       "      <th>weighted avg</th>\n",
       "      <td>0.1444</td>\n",
       "      <td>0.38</td>\n",
       "      <td>0.209275</td>\n",
       "      <td>100.00</td>\n",
       "    </tr>\n",
       "  </tbody>\n",
       "</table>\n",
       "</div>"
      ],
      "text/plain": [
       "              precision  recall  f1-score  support\n",
       "0                0.0000    0.00  0.000000    62.00\n",
       "1                0.3800    1.00  0.550725    38.00\n",
       "accuracy         0.3800    0.38  0.380000     0.38\n",
       "macro avg        0.1900    0.50  0.275362   100.00\n",
       "weighted avg     0.1444    0.38  0.209275   100.00"
      ]
     },
     "execution_count": 57,
     "metadata": {},
     "output_type": "execute_result"
    }
   ],
   "source": [
    "dev_cls_df"
   ]
  },
  {
   "cell_type": "code",
   "execution_count": 58,
   "id": "ef4c2eb5-2bbe-47e8-9389-035f7e4da5c2",
   "metadata": {
    "tags": []
   },
   "outputs": [
    {
     "data": {
      "text/html": [
       "<div>\n",
       "<style scoped>\n",
       "    .dataframe tbody tr th:only-of-type {\n",
       "        vertical-align: middle;\n",
       "    }\n",
       "\n",
       "    .dataframe tbody tr th {\n",
       "        vertical-align: top;\n",
       "    }\n",
       "\n",
       "    .dataframe thead th {\n",
       "        text-align: right;\n",
       "    }\n",
       "</style>\n",
       "<table border=\"1\" class=\"dataframe\">\n",
       "  <thead>\n",
       "    <tr style=\"text-align: right;\">\n",
       "      <th></th>\n",
       "      <th>cosine_pearson</th>\n",
       "      <th>cosine_spearman</th>\n",
       "    </tr>\n",
       "  </thead>\n",
       "  <tbody>\n",
       "    <tr>\n",
       "      <th>0</th>\n",
       "      <td>0.008435</td>\n",
       "      <td>0.029914</td>\n",
       "    </tr>\n",
       "  </tbody>\n",
       "</table>\n",
       "</div>"
      ],
      "text/plain": [
       "   cosine_pearson  cosine_spearman\n",
       "0        0.008435         0.029914"
      ]
     },
     "execution_count": 58,
     "metadata": {},
     "output_type": "execute_result"
    }
   ],
   "source": [
    "test_sp_df"
   ]
  },
  {
   "cell_type": "code",
   "execution_count": 59,
   "id": "80113fbc-6964-4d5f-91fd-14fb4244e099",
   "metadata": {},
   "outputs": [
    {
     "data": {
      "text/html": [
       "<div>\n",
       "<style scoped>\n",
       "    .dataframe tbody tr th:only-of-type {\n",
       "        vertical-align: middle;\n",
       "    }\n",
       "\n",
       "    .dataframe tbody tr th {\n",
       "        vertical-align: top;\n",
       "    }\n",
       "\n",
       "    .dataframe thead th {\n",
       "        text-align: right;\n",
       "    }\n",
       "</style>\n",
       "<table border=\"1\" class=\"dataframe\">\n",
       "  <thead>\n",
       "    <tr style=\"text-align: right;\">\n",
       "      <th></th>\n",
       "      <th>precision</th>\n",
       "      <th>recall</th>\n",
       "      <th>f1-score</th>\n",
       "      <th>support</th>\n",
       "    </tr>\n",
       "  </thead>\n",
       "  <tbody>\n",
       "    <tr>\n",
       "      <th>0</th>\n",
       "      <td>0.000000</td>\n",
       "      <td>0.0000</td>\n",
       "      <td>0.000000</td>\n",
       "      <td>195.0000</td>\n",
       "    </tr>\n",
       "    <tr>\n",
       "      <th>1</th>\n",
       "      <td>0.512500</td>\n",
       "      <td>1.0000</td>\n",
       "      <td>0.677686</td>\n",
       "      <td>205.0000</td>\n",
       "    </tr>\n",
       "    <tr>\n",
       "      <th>accuracy</th>\n",
       "      <td>0.512500</td>\n",
       "      <td>0.5125</td>\n",
       "      <td>0.512500</td>\n",
       "      <td>0.5125</td>\n",
       "    </tr>\n",
       "    <tr>\n",
       "      <th>macro avg</th>\n",
       "      <td>0.256250</td>\n",
       "      <td>0.5000</td>\n",
       "      <td>0.338843</td>\n",
       "      <td>400.0000</td>\n",
       "    </tr>\n",
       "    <tr>\n",
       "      <th>weighted avg</th>\n",
       "      <td>0.262656</td>\n",
       "      <td>0.5125</td>\n",
       "      <td>0.347314</td>\n",
       "      <td>400.0000</td>\n",
       "    </tr>\n",
       "  </tbody>\n",
       "</table>\n",
       "</div>"
      ],
      "text/plain": [
       "              precision  recall  f1-score   support\n",
       "0              0.000000  0.0000  0.000000  195.0000\n",
       "1              0.512500  1.0000  0.677686  205.0000\n",
       "accuracy       0.512500  0.5125  0.512500    0.5125\n",
       "macro avg      0.256250  0.5000  0.338843  400.0000\n",
       "weighted avg   0.262656  0.5125  0.347314  400.0000"
      ]
     },
     "execution_count": 59,
     "metadata": {},
     "output_type": "execute_result"
    }
   ],
   "source": [
    "test_cls_df"
   ]
  },
  {
   "cell_type": "code",
   "execution_count": 60,
   "id": "a7549abf-3767-4105-8ade-27f0a2318fb8",
   "metadata": {
    "tags": []
   },
   "outputs": [
    {
     "data": {
      "text/plain": [
       "(array([  3.,   1.,  12.,   9.,  22.,  38.,  45.,  98., 104.,  68.]),\n",
       " array([0.91618264, 0.92418462, 0.93218654, 0.94018853, 0.94819045,\n",
       "        0.95619243, 0.96419442, 0.97219634, 0.98019832, 0.98820025,\n",
       "        0.99620223]),\n",
       " <BarContainer object of 10 artists>)"
      ]
     },
     "execution_count": 60,
     "metadata": {},
     "output_type": "execute_result"
    },
    {
     "data": {
      "image/png": "[encoded data removed]",
      "text/plain": [
       "<Figure size 640x480 with 4 Axes>"
      ]
     },
     "metadata": {},
     "output_type": "display_data"
    }
   ],
   "source": [
    "fig,axs = plt.subplots(2,2)\n",
    "axs[0,0].hist(dev_score)\n",
    "axs[0,1].hist(test_score)\n",
    "axs[1,0].hist(predicted_dev_scores)\n",
    "axs[1,1].hist(predicted_test_scores)"
   ]
  }
 ],
 "metadata": {
  "kernelspec": {
   "display_name": "Python 3 (ipykernel)",
   "language": "python",
   "name": "python3"
  },
  "language_info": {
   "codemirror_mode": {
    "name": "ipython",
    "version": 3
   },
   "file_extension": ".py",
   "mimetype": "text/x-python",
   "name": "python",
   "nbconvert_exporter": "python",
   "pygments_lexer": "ipython3",
   "version": "3.8.17"
  }
 },
 "nbformat": 4,
 "nbformat_minor": 5
}
