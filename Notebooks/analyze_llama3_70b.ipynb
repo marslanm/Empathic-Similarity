{
 "cells": [
  {
   "cell_type": "code",
   "execution_count": 111,
   "id": "a1352333-c2b6-4483-a093-07bc1f6543d3",
   "metadata": {
    "tags": []
   },
   "outputs": [],
   "source": [
    "import json"
   ]
  },
  {
   "cell_type": "code",
   "execution_count": 112,
   "id": "1759f896-7ad3-4a4b-8f42-b9d8181e98e0",
   "metadata": {
    "tags": []
   },
   "outputs": [],
   "source": [
    "load = lambda x: json.load(open(x))"
   ]
  },
  {
   "cell_type": "code",
   "execution_count": 161,
   "id": "b09ad587-998b-4f85-88df-fa49e0304cf3",
   "metadata": {
    "tags": []
   },
   "outputs": [],
   "source": [
    "all_results = !ls results/llm_eval_openllm/ | grep report | grep optimized-"
   ]
  },
  {
   "cell_type": "code",
   "execution_count": 162,
   "id": "45c508bb-006d-4e7e-b43b-6ae6070720b7",
   "metadata": {
    "tags": []
   },
   "outputs": [],
   "source": [
    "reports = [ load(f'results/llm_eval_openllm/{result_file}') for result_file in all_results]"
   ]
  },
  {
   "cell_type": "code",
   "execution_count": 163,
   "id": "a4fb35bb-58d4-4d58-8713-b63aa7bfc2e9",
   "metadata": {
    "tags": []
   },
   "outputs": [
    {
     "data": {
      "text/plain": [
       "4"
      ]
     },
     "execution_count": 163,
     "metadata": {},
     "output_type": "execute_result"
    }
   ],
   "source": [
    "len(reports)"
   ]
  },
  {
   "cell_type": "code",
   "execution_count": 164,
   "id": "c44ace95-1d97-48c0-a88e-33048d9362c9",
   "metadata": {
    "tags": []
   },
   "outputs": [],
   "source": [
    "settings = [ x.split('-') for x in all_results]"
   ]
  },
  {
   "cell_type": "code",
   "execution_count": 165,
   "id": "4550c046-0ada-4e36-8d9d-6a8ddab8fb4c",
   "metadata": {
    "tags": []
   },
   "outputs": [],
   "source": [
    "settings = [ [ y.split('.')[0] for y in x] for x in settings]"
   ]
  },
  {
   "cell_type": "code",
   "execution_count": 166,
   "id": "9056ba85-c108-4194-9dc5-18de845c8b01",
   "metadata": {
    "tags": []
   },
   "outputs": [],
   "source": [
    "settings = [ dict(zip(['model', 'prompt', 'split', 'story'], x)) for x in settings]"
   ]
  },
  {
   "cell_type": "code",
   "execution_count": 167,
   "id": "c2693295-5cdc-428c-8b43-c2f1078f296f",
   "metadata": {
    "tags": []
   },
   "outputs": [],
   "source": [
    "import pandas as pd"
   ]
  },
  {
   "cell_type": "code",
   "execution_count": 168,
   "id": "c9b91a22-713e-46bf-9b52-008f22fc4b73",
   "metadata": {
    "tags": []
   },
   "outputs": [],
   "source": [
    "get_reg = lambda x:{ p.replace('_human_AGG','').replace('similarity_',''):q for p,q in { k:v['mean']['regression'] for k,v in x.items()}.items()}"
   ]
  },
  {
   "cell_type": "code",
   "execution_count": 169,
   "id": "7c60b2cf-7ad5-46f3-969c-c779773a55cb",
   "metadata": {
    "tags": []
   },
   "outputs": [],
   "source": [
    "get_cls = lambda x:{ p.replace('_human_AGG','').replace('similarity_',''):q for p,q in {k: v['mean']['classification'] for k,v in x.items()}.items()}"
   ]
  },
  {
   "cell_type": "code",
   "execution_count": 170,
   "id": "7d8bd4fb-5bd0-4bdb-b81f-997a23b49fb7",
   "metadata": {
    "tags": []
   },
   "outputs": [],
   "source": [
    "# flatten(get_cls(report['similarity_empathy_human_AGG']))"
   ]
  },
  {
   "cell_type": "code",
   "execution_count": 171,
   "id": "c941bfcf-4fb1-47ae-a47c-ae8639ceb068",
   "metadata": {
    "tags": []
   },
   "outputs": [],
   "source": [
    "def merge(dict1, dict2):\n",
    "    res = {**dict1, **dict2}\n",
    "    return res"
   ]
  },
  {
   "cell_type": "code",
   "execution_count": 172,
   "id": "b347ee08-1538-4e3e-8428-701a54d27454",
   "metadata": {
    "tags": []
   },
   "outputs": [],
   "source": [
    "def merge_more(*dicts):\n",
    "    d = {}\n",
    "    for x in dicts:\n",
    "        d = merge(d,x)\n",
    "    return d"
   ]
  },
  {
   "cell_type": "code",
   "execution_count": 173,
   "id": "368e605d-de6a-4e79-90fd-f5f98bfe0393",
   "metadata": {
    "tags": []
   },
   "outputs": [],
   "source": [
    "def merge_values(dict1, dict2):\n",
    "    merged_dict = {}\n",
    "    for k in dict1.keys():\n",
    "        merged_dict[k] = merge_more(dict1[k], dict2[k])\n",
    "    return merged_dict"
   ]
  },
  {
   "cell_type": "code",
   "execution_count": null,
   "id": "6f228c4e-a427-40cf-bab1-ed3d30711d6e",
   "metadata": {},
   "outputs": [],
   "source": []
  },
  {
   "cell_type": "code",
   "execution_count": 177,
   "id": "a028b6ef-eaeb-4d94-ad72-906bad4db73b",
   "metadata": {
    "tags": []
   },
   "outputs": [
    {
     "name": "stdout",
     "output_type": "stream",
     "text": [
      "\\begin{tabular}{lrrrrrrr}\n",
      "\\toprule\n",
      " & Pearson & Spearman & MSE & accuracy & precision & recall & F1 \\\\\n",
      "\\midrule\n",
      "empathy & 0.304 & 0.295 & 0.970 & 0.545 & 0.628 & 0.534 & 0.436 \\\\\n",
      "event & 0.337 & 0.357 & 1.980 & 0.305 & 0.625 & 0.547 & 0.287 \\\\\n",
      "emotion & 0.305 & 0.312 & 1.180 & 0.495 & 0.617 & 0.532 & 0.407 \\\\\n",
      "moral & 0.305 & 0.320 & 1.320 & 0.455 & 0.659 & 0.545 & 0.391 \\\\\n",
      "\\bottomrule\n",
      "\\end{tabular}\n",
      "\n"
     ]
    }
   ],
   "source": [
    "print(pd.DataFrame(merge_values(get_reg(reports[2]), get_cls(reports[2]))).T.to_latex(float_format=lambda x:f'{x:.3f}'))"
   ]
  },
  {
   "cell_type": "code",
   "execution_count": 175,
   "id": "85e624c3-dc62-4dab-a512-8f309ec5b468",
   "metadata": {
    "tags": []
   },
   "outputs": [
    {
     "data": {
      "text/plain": [
       "[{'model': 'meta_llama_Meta_Llama_3_70B_Instruct',\n",
       "  'prompt': 'optimized',\n",
       "  'split': 'dev',\n",
       "  'story': 'full'},\n",
       " {'model': 'meta_llama_Meta_Llama_3_70B_Instruct',\n",
       "  'prompt': 'optimized',\n",
       "  'split': 'dev',\n",
       "  'story': 'summary'},\n",
       " {'model': 'meta_llama_Meta_Llama_3_70B_Instruct',\n",
       "  'prompt': 'optimized',\n",
       "  'split': 'test',\n",
       "  'story': 'full'},\n",
       " {'model': 'meta_llama_Meta_Llama_3_70B_Instruct',\n",
       "  'prompt': 'optimized',\n",
       "  'split': 'test',\n",
       "  'story': 'summary'}]"
      ]
     },
     "execution_count": 175,
     "metadata": {},
     "output_type": "execute_result"
    }
   ],
   "source": [
    "settings"
   ]
  },
  {
   "cell_type": "code",
   "execution_count": 44,
   "id": "cc1b0a6e-4840-4422-99d6-6e1626dff593",
   "metadata": {
    "tags": []
   },
   "outputs": [],
   "source": [
    "flatten = lambda x: { f'{p}-{k}':q for k,v in x.items()  for p,q in v.items()}"
   ]
  },
  {
   "cell_type": "code",
   "execution_count": 34,
   "id": "de495fd7-8c33-47e4-814f-3249c8c14acc",
   "metadata": {
    "tags": []
   },
   "outputs": [
    {
     "ename": "KeyError",
     "evalue": "'mean'",
     "output_type": "error",
     "traceback": [
      "\u001b[0;31m---------------------------------------------------------------------------\u001b[0m",
      "\u001b[0;31mKeyError\u001b[0m                                  Traceback (most recent call last)",
      "Cell \u001b[0;32mIn[34], line 3\u001b[0m\n\u001b[1;32m      1\u001b[0m \u001b[38;5;28;01mfor\u001b[39;00m i,(report, setting) \u001b[38;5;129;01min\u001b[39;00m \u001b[38;5;28menumerate\u001b[39m(\u001b[38;5;28mzip\u001b[39m(reports, settings)):\n\u001b[1;32m      2\u001b[0m     \u001b[38;5;66;03m# setting['reg'] = pd.DataFrame(get_reg(report['similarity_empathy_human_AGG']))\u001b[39;00m\n\u001b[0;32m----> 3\u001b[0m     setting \u001b[38;5;241m=\u001b[39m merge_more(setting, flatten(\u001b[43mget_reg\u001b[49m\u001b[43m(\u001b[49m\u001b[43mreport\u001b[49m\u001b[43m[\u001b[49m\u001b[38;5;124;43m'\u001b[39;49m\u001b[38;5;124;43msimilarity_empathy_human_AGG\u001b[39;49m\u001b[38;5;124;43m'\u001b[39;49m\u001b[43m]\u001b[49m\u001b[43m)\u001b[49m), flatten(get_cls(report[\u001b[38;5;124m'\u001b[39m\u001b[38;5;124msimilarity_empathy_human_AGG\u001b[39m\u001b[38;5;124m'\u001b[39m])))\n\u001b[1;32m      4\u001b[0m     settings[i] \u001b[38;5;241m=\u001b[39m setting\n",
      "Cell \u001b[0;32mIn[28], line 1\u001b[0m, in \u001b[0;36m<lambda>\u001b[0;34m(x)\u001b[0m\n\u001b[0;32m----> 1\u001b[0m get_reg \u001b[38;5;241m=\u001b[39m \u001b[38;5;28;01mlambda\u001b[39;00m x:{ k:v[\u001b[38;5;124m'\u001b[39m\u001b[38;5;124mregression\u001b[39m\u001b[38;5;124m'\u001b[39m][\u001b[38;5;124m'\u001b[39m\u001b[38;5;124mmean\u001b[39m\u001b[38;5;124m'\u001b[39m] \u001b[38;5;28;01mfor\u001b[39;00m k,v \u001b[38;5;129;01min\u001b[39;00m x\u001b[38;5;241m.\u001b[39mitems()}\n",
      "Cell \u001b[0;32mIn[28], line 1\u001b[0m, in \u001b[0;36m<dictcomp>\u001b[0;34m(.0)\u001b[0m\n\u001b[0;32m----> 1\u001b[0m get_reg \u001b[38;5;241m=\u001b[39m \u001b[38;5;28;01mlambda\u001b[39;00m x:{ k:\u001b[43mv\u001b[49m\u001b[43m[\u001b[49m\u001b[38;5;124;43m'\u001b[39;49m\u001b[38;5;124;43mregression\u001b[39;49m\u001b[38;5;124;43m'\u001b[39;49m\u001b[43m]\u001b[49m\u001b[43m[\u001b[49m\u001b[38;5;124;43m'\u001b[39;49m\u001b[38;5;124;43mmean\u001b[39;49m\u001b[38;5;124;43m'\u001b[39;49m\u001b[43m]\u001b[49m \u001b[38;5;28;01mfor\u001b[39;00m k,v \u001b[38;5;129;01min\u001b[39;00m x\u001b[38;5;241m.\u001b[39mitems()}\n",
      "\u001b[0;31mKeyError\u001b[0m: 'mean'"
     ]
    }
   ],
   "source": [
    "for i,(report, setting) in enumerate(zip(reports, settings)):\n",
    "    # setting['reg'] = pd.DataFrame(get_reg(report['similarity_empathy_human_AGG']))\n",
    "    setting = merge_more(setting, flatten(get_reg(report)), flatten(get_cls(report)))\n",
    "    settings[i] = setting"
   ]
  },
  {
   "cell_type": "code",
   "execution_count": 26,
   "id": "aef4d26e-866f-40e7-95fa-a0a724fe62cb",
   "metadata": {
    "tags": []
   },
   "outputs": [],
   "source": [
    "df = pd.DataFrame(settings).sort_values(['split', 'prompt', 'story'])"
   ]
  },
  {
   "cell_type": "code",
   "execution_count": 27,
   "id": "9b196c0b-a5de-48b3-8023-147e8ed16025",
   "metadata": {
    "tags": []
   },
   "outputs": [
    {
     "data": {
      "text/html": [
       "<div>\n",
       "<style scoped>\n",
       "    .dataframe tbody tr th:only-of-type {\n",
       "        vertical-align: middle;\n",
       "    }\n",
       "\n",
       "    .dataframe tbody tr th {\n",
       "        vertical-align: top;\n",
       "    }\n",
       "\n",
       "    .dataframe thead th {\n",
       "        text-align: right;\n",
       "    }\n",
       "</style>\n",
       "<table border=\"1\" class=\"dataframe\">\n",
       "  <thead>\n",
       "    <tr style=\"text-align: right;\">\n",
       "      <th></th>\n",
       "      <th>model</th>\n",
       "      <th>prompt</th>\n",
       "      <th>split</th>\n",
       "      <th>story</th>\n",
       "      <th>Pearson-mean</th>\n",
       "      <th>Spearman-mean</th>\n",
       "      <th>MSE-mean</th>\n",
       "      <th>Pearson-standard</th>\n",
       "      <th>Spearman-standard</th>\n",
       "      <th>MSE-standard</th>\n",
       "      <th>...</th>\n",
       "      <th>recall-mean</th>\n",
       "      <th>F1-mean</th>\n",
       "      <th>accuracy-standard</th>\n",
       "      <th>precision-standard</th>\n",
       "      <th>recall-standard</th>\n",
       "      <th>F1-standard</th>\n",
       "      <th>accuracy-reverse</th>\n",
       "      <th>precision-reverse</th>\n",
       "      <th>recall-reverse</th>\n",
       "      <th>F1-reverse</th>\n",
       "    </tr>\n",
       "  </thead>\n",
       "  <tbody>\n",
       "    <tr>\n",
       "      <th>0</th>\n",
       "      <td>meta_llama_Meta_Llama_3_70B_Instruct</td>\n",
       "      <td>optimized</td>\n",
       "      <td>dev</td>\n",
       "      <td>full</td>\n",
       "      <td>0.264</td>\n",
       "      <td>0.284</td>\n",
       "      <td>1.11</td>\n",
       "      <td>0.254</td>\n",
       "      <td>0.251</td>\n",
       "      <td>1.14</td>\n",
       "      <td>...</td>\n",
       "      <td>0.554</td>\n",
       "      <td>0.421</td>\n",
       "      <td>0.570</td>\n",
       "      <td>0.673</td>\n",
       "      <td>0.638</td>\n",
       "      <td>0.563</td>\n",
       "      <td>0.500</td>\n",
       "      <td>0.586</td>\n",
       "      <td>0.566</td>\n",
       "      <td>0.490</td>\n",
       "    </tr>\n",
       "    <tr>\n",
       "      <th>1</th>\n",
       "      <td>meta_llama_Meta_Llama_3_70B_Instruct</td>\n",
       "      <td>optimized</td>\n",
       "      <td>dev</td>\n",
       "      <td>summary</td>\n",
       "      <td>0.450</td>\n",
       "      <td>0.459</td>\n",
       "      <td>0.61</td>\n",
       "      <td>0.401</td>\n",
       "      <td>0.418</td>\n",
       "      <td>0.65</td>\n",
       "      <td>...</td>\n",
       "      <td>0.717</td>\n",
       "      <td>0.697</td>\n",
       "      <td>0.740</td>\n",
       "      <td>0.725</td>\n",
       "      <td>0.729</td>\n",
       "      <td>0.727</td>\n",
       "      <td>0.720</td>\n",
       "      <td>0.712</td>\n",
       "      <td>0.723</td>\n",
       "      <td>0.713</td>\n",
       "    </tr>\n",
       "    <tr>\n",
       "      <th>2</th>\n",
       "      <td>meta_llama_Meta_Llama_3_70B_Instruct</td>\n",
       "      <td>optimized</td>\n",
       "      <td>test</td>\n",
       "      <td>full</td>\n",
       "      <td>0.304</td>\n",
       "      <td>0.295</td>\n",
       "      <td>0.97</td>\n",
       "      <td>0.300</td>\n",
       "      <td>0.289</td>\n",
       "      <td>0.98</td>\n",
       "      <td>...</td>\n",
       "      <td>0.534</td>\n",
       "      <td>0.436</td>\n",
       "      <td>0.580</td>\n",
       "      <td>0.659</td>\n",
       "      <td>0.571</td>\n",
       "      <td>0.507</td>\n",
       "      <td>0.557</td>\n",
       "      <td>0.610</td>\n",
       "      <td>0.548</td>\n",
       "      <td>0.479</td>\n",
       "    </tr>\n",
       "    <tr>\n",
       "      <th>3</th>\n",
       "      <td>meta_llama_Meta_Llama_3_70B_Instruct</td>\n",
       "      <td>optimized</td>\n",
       "      <td>test</td>\n",
       "      <td>summary</td>\n",
       "      <td>0.405</td>\n",
       "      <td>0.403</td>\n",
       "      <td>0.62</td>\n",
       "      <td>0.397</td>\n",
       "      <td>0.387</td>\n",
       "      <td>0.66</td>\n",
       "      <td>...</td>\n",
       "      <td>0.630</td>\n",
       "      <td>0.614</td>\n",
       "      <td>0.652</td>\n",
       "      <td>0.654</td>\n",
       "      <td>0.651</td>\n",
       "      <td>0.650</td>\n",
       "      <td>0.623</td>\n",
       "      <td>0.624</td>\n",
       "      <td>0.620</td>\n",
       "      <td>0.619</td>\n",
       "    </tr>\n",
       "  </tbody>\n",
       "</table>\n",
       "<p>4 rows × 25 columns</p>\n",
       "</div>"
      ],
      "text/plain": [
       "                                  model     prompt split    story  \\\n",
       "0  meta_llama_Meta_Llama_3_70B_Instruct  optimized   dev     full   \n",
       "1  meta_llama_Meta_Llama_3_70B_Instruct  optimized   dev  summary   \n",
       "2  meta_llama_Meta_Llama_3_70B_Instruct  optimized  test     full   \n",
       "3  meta_llama_Meta_Llama_3_70B_Instruct  optimized  test  summary   \n",
       "\n",
       "   Pearson-mean  Spearman-mean  MSE-mean  Pearson-standard  Spearman-standard  \\\n",
       "0         0.264          0.284      1.11             0.254              0.251   \n",
       "1         0.450          0.459      0.61             0.401              0.418   \n",
       "2         0.304          0.295      0.97             0.300              0.289   \n",
       "3         0.405          0.403      0.62             0.397              0.387   \n",
       "\n",
       "   MSE-standard  ...  recall-mean  F1-mean  accuracy-standard  \\\n",
       "0          1.14  ...        0.554    0.421              0.570   \n",
       "1          0.65  ...        0.717    0.697              0.740   \n",
       "2          0.98  ...        0.534    0.436              0.580   \n",
       "3          0.66  ...        0.630    0.614              0.652   \n",
       "\n",
       "   precision-standard  recall-standard  F1-standard  accuracy-reverse  \\\n",
       "0               0.673            0.638        0.563             0.500   \n",
       "1               0.725            0.729        0.727             0.720   \n",
       "2               0.659            0.571        0.507             0.557   \n",
       "3               0.654            0.651        0.650             0.623   \n",
       "\n",
       "   precision-reverse  recall-reverse  F1-reverse  \n",
       "0              0.586           0.566       0.490  \n",
       "1              0.712           0.723       0.713  \n",
       "2              0.610           0.548       0.479  \n",
       "3              0.624           0.620       0.619  \n",
       "\n",
       "[4 rows x 25 columns]"
      ]
     },
     "execution_count": 27,
     "metadata": {},
     "output_type": "execute_result"
    }
   ],
   "source": [
    "df"
   ]
  },
  {
   "cell_type": "code",
   "execution_count": 19,
   "id": "e1758b1f-ba58-48fb-ba4e-6ec6e2393890",
   "metadata": {
    "tags": []
   },
   "outputs": [],
   "source": [
    "setting_column = ['model', 'split', 'prompt', 'story']"
   ]
  },
  {
   "cell_type": "code",
   "execution_count": 20,
   "id": "a3fd4b12-c5ee-4d3f-85d6-33ddf5eabde8",
   "metadata": {
    "tags": []
   },
   "outputs": [],
   "source": [
    "column_blacklist = ['MSE', 'precision', 'recall']"
   ]
  },
  {
   "cell_type": "code",
   "execution_count": 21,
   "id": "b8cda02c-3c53-445d-996b-07e6439c770b",
   "metadata": {
    "tags": []
   },
   "outputs": [],
   "source": [
    "ordered_columns = list(filter(lambda u: all([ r not in u for r in column_blacklist]), setting_column + sorted([x for x in df.columns if x not in setting_column])))"
   ]
  },
  {
   "cell_type": "code",
   "execution_count": 22,
   "id": "d7a38f81-f24c-4dce-b0a4-fca2d9fbaaa4",
   "metadata": {
    "tags": []
   },
   "outputs": [],
   "source": [
    "df = pd.DataFrame(settings).sort_values(['split', 'prompt', 'story'])[ordered_columns]"
   ]
  },
  {
   "cell_type": "code",
   "execution_count": 23,
   "id": "499b6367-b056-4f2a-a0ea-4f6b61d17744",
   "metadata": {
    "tags": []
   },
   "outputs": [],
   "source": [
    "df['model'] = 'Llama3-70B'"
   ]
  },
  {
   "cell_type": "code",
   "execution_count": 25,
   "id": "63aa4bbc-a257-46c8-bcf7-b9c89cbd9812",
   "metadata": {
    "tags": []
   },
   "outputs": [],
   "source": [
    "df.to_csv('results/llama3_70b.csv',float_format=lambda x:f'{x:.2f}')"
   ]
  },
  {
   "cell_type": "code",
   "execution_count": null,
   "id": "4b5eec7b-ca23-4c4d-a74c-ce7716f33b73",
   "metadata": {},
   "outputs": [],
   "source": []
  },
  {
   "cell_type": "code",
   "execution_count": null,
   "id": "5b043a9f-787d-4344-899a-bec4a83db9b3",
   "metadata": {},
   "outputs": [],
   "source": []
  },
  {
   "cell_type": "code",
   "execution_count": null,
   "id": "82bb3a13-8a72-4bd5-90e6-100ddba999b9",
   "metadata": {},
   "outputs": [],
   "source": [
    "load('results/llm_eval_openllm/meta_llama_Meta_Llama_3_70B_Instruct-optimized-dev-summary.report.json')"
   ]
  }
 ],
 "metadata": {
  "kernelspec": {
   "display_name": "Python 3 (ipykernel)",
   "language": "python",
   "name": "python3"
  },
  "language_info": {
   "codemirror_mode": {
    "name": "ipython",
    "version": 3
   },
   "file_extension": ".py",
   "mimetype": "text/x-python",
   "name": "python",
   "nbconvert_exporter": "python",
   "pygments_lexer": "ipython3",
   "version": "3.8.17"
  }
 },
 "nbformat": 4,
 "nbformat_minor": 5
}
