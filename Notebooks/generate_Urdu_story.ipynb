{
 "cells": [
  {
   "cell_type": "code",
   "execution_count": 1,
   "id": "58ca002e-8a80-42dd-a492-11a8815ea0dc",
   "metadata": {},
   "outputs": [
    {
     "name": "stderr",
     "output_type": "stream",
     "text": [
      "/home/yuxiawang/miniconda3/lib/python3.11/site-packages/tqdm/auto.py:21: TqdmWarning: IProgress not found. Please update jupyter and ipywidgets. See https://ipywidgets.readthedocs.io/en/stable/user_install.html\n",
      "  from .autonotebook import tqdm as notebook_tqdm\n",
      "2024-05-30 18:35:33,529\tINFO util.py:154 -- Missing packages: ['ipywidgets']. Run `pip install -U ipywidgets`, then restart the notebook server for rich notebook output.\n"
     ]
    }
   ],
   "source": [
    "from src.generate_urdu_story_prompt import urdu_story_generation_prompt\n",
    "from src.llm import gpt_easy\n",
    "import pandas as pd\n",
    "\n",
    "model_name = \"gpt-4o\"\n",
    "save_path = \"./data/urdu_Pakistani_story_pairs.jsonl\"\n",
    "responses = []\n",
    "for i in range(125):\n",
    "    r = gpt_easy(user_input = urdu_story_generation_prompt, \n",
    "                 model=model_name, \n",
    "                 system_role = \"You read many stories written by Pakistani people, now some short stories in Roman Urdu inspired by Pakistani culture, infused with deep emotion and empathy.\")\n",
    "    responses.append({\"id\": i, \"stories\": r})\n",
    "    pd.DataFrame(responses).to_json(save_path, lines=True, orient=\"records\")"
   ]
  },
  {
   "cell_type": "code",
   "execution_count": 32,
   "id": "164a9ee6-1a84-40c9-8556-618c5f575bfd",
   "metadata": {},
   "outputs": [
    {
     "name": "stdout",
     "output_type": "stream",
     "text": [
      "49\n"
     ]
    }
   ],
   "source": [
    "import re\n",
    "def extract_dicts(r):\n",
    "    rs = []\n",
    "    for p in r.split(\"\\n//\"):\n",
    "        p = p.strip()\n",
    "        index = p.find('{')\n",
    "        # If '{' is found, return the substring from the character after '{'\n",
    "        if index != -1:\n",
    "            p = p[index:]\n",
    "        rs.append(eval(p))\n",
    "    return rs\n",
    "    \n",
    "data = []\n",
    "count = 0\n",
    "for row in responses:\n",
    "    r = row[\"stories\"]\n",
    "    try:\n",
    "        r = r.replace('```json', '').replace('```', '').strip()\n",
    "        r = eval(r)\n",
    "        data +=r\n",
    "    except SyntaxError:\n",
    "        # print(row['id'])\n",
    "        count += 1\n",
    "        # extract_dicts(r)\n",
    "print(count) # fail to parse"
   ]
  },
  {
   "cell_type": "code",
   "execution_count": null,
   "id": "5574b7c6-08cc-49c1-8619-0e235e0b013b",
   "metadata": {},
   "outputs": [],
   "source": [
    "data = [d for d in data if isinstance(d, dict)]\n",
    "data = pd.DataFrame(data)\n",
    "other = pd.read_json(\"./data/urdu_story_pair.json\")\n",
    "pd.concat([data, other]).to_json(\"./data/urdu_story_pair.jsonl\", lines=True, orient=\"records\")"
   ]
  },
  {
   "cell_type": "code",
   "execution_count": null,
   "id": "84e4ff7b-3f60-44fe-8d70-c129d7a5eec8",
   "metadata": {},
   "outputs": [],
   "source": []
  }
 ],
 "metadata": {
  "kernelspec": {
   "display_name": "Python 3 (ipykernel)",
   "language": "python",
   "name": "python3"
  },
  "language_info": {
   "codemirror_mode": {
    "name": "ipython",
    "version": 3
   },
   "file_extension": ".py",
   "mimetype": "text/x-python",
   "name": "python",
   "nbconvert_exporter": "python",
   "pygments_lexer": "ipython3",
   "version": "3.11.5"
  }
 },
 "nbformat": 4,
 "nbformat_minor": 5
}
