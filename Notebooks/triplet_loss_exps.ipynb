{
 "cells": [
  {
   "cell_type": "code",
   "execution_count": 1,
   "id": "2d9aa197-9952-4b1a-9659-e9674e6415fb",
   "metadata": {
    "tags": []
   },
   "outputs": [],
   "source": [
    "import pandas as pd\n",
    "import torch\n",
    "import numpy as np\n",
    "import scipy\n",
    "from sklearn import metrics\n",
    "import matplotlib.pyplot as plt\n",
    "import random"
   ]
  },
  {
   "cell_type": "code",
   "execution_count": 2,
   "id": "7a151465-3390-4c14-b44a-1de25aa946e3",
   "metadata": {
    "tags": []
   },
   "outputs": [],
   "source": [
    "data_path = './data'"
   ]
  },
  {
   "cell_type": "code",
   "execution_count": 3,
   "id": "9d909484-e1bb-4252-ac06-deef97ad4cf4",
   "metadata": {
    "tags": []
   },
   "outputs": [],
   "source": [
    "train_df = pd.read_csv(f'{data_path}/PAIRS (train).csv')\n",
    "dev_df = pd.read_csv(f'{data_path}/PAIRS (dev).csv')\n",
    "test_df = pd.read_csv(f'{data_path}/PAIRS (test).csv')"
   ]
  },
  {
   "cell_type": "code",
   "execution_count": 4,
   "id": "0a5512fe-4e3d-470f-8c3e-07fc44e2ed1f",
   "metadata": {
    "tags": []
   },
   "outputs": [],
   "source": [
    "label_columns = 'similarity_empathy_human_AGG\tsimilarity_event_human_AGG\tsimilarity_emotion_human_AGG\tsimilarity_moral_human_AGG'.split()"
   ]
  },
  {
   "cell_type": "code",
   "execution_count": 5,
   "id": "a334b426-242b-4dab-b9d4-ed06fe9e5710",
   "metadata": {
    "tags": []
   },
   "outputs": [],
   "source": [
    "text_preprocess = lambda x:x.strip().replace('\\n',' ')"
   ]
  },
  {
   "cell_type": "code",
   "execution_count": null,
   "id": "0dd51d85-9135-47b9-9469-7124bc1885cc",
   "metadata": {},
   "outputs": [],
   "source": []
  },
  {
   "cell_type": "code",
   "execution_count": 6,
   "id": "4b980059-f1a6-4ed6-901f-4609deddcd99",
   "metadata": {
    "tags": []
   },
   "outputs": [],
   "source": [
    "# Choose which two columns are used as text pairs\n",
    "\n",
    "# text_columns = ['story_A', 'story_B']\n",
    "text_columns = ['story_A_summary', 'story_B_summary']\n",
    "label_column = [label_columns[0]]"
   ]
  },
  {
   "cell_type": "code",
   "execution_count": 7,
   "id": "2d2394c4-a2e1-42ed-8db0-7401343b922e",
   "metadata": {
    "tags": []
   },
   "outputs": [],
   "source": [
    "score_conversion_funcs = {\n",
    "    \"original_paper\": lambda x: x / 4,\n",
    "    \"01_continue\": lambda x:(x - 1) / 3,\n",
    "}\n",
    "score_recover_funcs = {\n",
    "    \"original_paper\": lambda x: x * 4,\n",
    "    \"01_continue\": lambda x:(x * 3) + 1,\n",
    "}"
   ]
  },
  {
   "cell_type": "code",
   "execution_count": 8,
   "id": "711cbbfc-5359-4caf-9795-27d0dd618fba",
   "metadata": {
    "tags": []
   },
   "outputs": [],
   "source": [
    "# Choose score conversion method\n",
    "score_conversion_in_use = \"01_continue\""
   ]
  },
  {
   "cell_type": "code",
   "execution_count": 9,
   "id": "660a0fed-93ee-40a7-8d0f-61574b69797f",
   "metadata": {
    "tags": []
   },
   "outputs": [],
   "source": [
    "score_conversion_func = score_conversion_funcs.get(score_conversion_in_use)\n",
    "score_recover_func = score_recover_funcs.get(score_conversion_in_use)"
   ]
  },
  {
   "cell_type": "code",
   "execution_count": 10,
   "id": "75e34b34-70e8-4777-925c-907b5029678e",
   "metadata": {
    "tags": []
   },
   "outputs": [],
   "source": [
    "def create_data(df, text_pps, score_conversion_funcs):\n",
    "    required_columns = text_columns + label_column\n",
    "    df = df[required_columns].rename(columns={ k:v for k,v in zip(required_columns,['sentence1', 'sentence2','score'])})\n",
    "    for i in [1,2]:\n",
    "        df[f'sentence{i}'] = df[f'sentence{i}'].apply(text_pps)\n",
    "    df['score'] = score_conversion_funcs(df['score'])\n",
    "    return df"
   ]
  },
  {
   "cell_type": "code",
   "execution_count": 11,
   "id": "efc408c7-5fc2-4130-afb8-99084dac085b",
   "metadata": {
    "tags": []
   },
   "outputs": [],
   "source": [
    "train_df = create_data(train_df, text_preprocess, score_conversion_func)\n",
    "dev_df = create_data(dev_df, text_preprocess, score_conversion_func)\n",
    "test_df = create_data(test_df, text_preprocess, score_conversion_func)"
   ]
  },
  {
   "cell_type": "code",
   "execution_count": 12,
   "id": "f3d3fac2-6ce2-4e4d-a940-d07d07cf55fc",
   "metadata": {
    "tags": []
   },
   "outputs": [],
   "source": [
    "from torch.utils.data import DataLoader\n",
    "import math\n",
    "from sentence_transformers import models, losses, datasets,  util\n",
    "from sentence_transformers import LoggingHandler, SentenceTransformer, util, InputExample\n",
    "from sentence_transformers.evaluation import EmbeddingSimilarityEvaluator\n",
    "import logging\n",
    "from datetime import datetime"
   ]
  },
  {
   "cell_type": "code",
   "execution_count": 13,
   "id": "dd2eb7ed-a31e-4e8c-84b9-34bba867dd92",
   "metadata": {
    "tags": []
   },
   "outputs": [],
   "source": [
    "# model_name = \"sentence-transformers/multi-qa-mpnet-base-dot-v1\"\n",
    "model_name = \"FacebookAI/roberta-large\"\n",
    "train_batch_size = 64\n",
    "num_epochs = 3\n",
    "max_seq_length = 512"
   ]
  },
  {
   "cell_type": "code",
   "execution_count": 14,
   "id": "1754d452-ceb9-409e-a1cc-1ffe83f69195",
   "metadata": {
    "tags": []
   },
   "outputs": [
    {
     "name": "stderr",
     "output_type": "stream",
     "text": [
      "Some weights of RobertaModel were not initialized from the model checkpoint at FacebookAI/roberta-large and are newly initialized: ['roberta.pooler.dense.bias', 'roberta.pooler.dense.weight']\n",
      "You should probably TRAIN this model on a down-stream task to be able to use it for predictions and inference.\n"
     ]
    }
   ],
   "source": [
    "word_embedding_model = models.Transformer(model_name, max_seq_length=max_seq_length)\n",
    "pooling_model = models.Pooling(word_embedding_model.get_word_embedding_dimension())\n",
    "model = SentenceTransformer(modules=[word_embedding_model, pooling_model])"
   ]
  },
  {
   "cell_type": "code",
   "execution_count": 15,
   "id": "d3bfd444-d876-406e-aa5a-ac7157d037ce",
   "metadata": {
    "tags": []
   },
   "outputs": [],
   "source": [
    "model_save_path = \"./contrastive_exp/\""
   ]
  },
  {
   "cell_type": "code",
   "execution_count": 16,
   "id": "17d6c0f2-6929-4617-aba4-3443b3e51991",
   "metadata": {
    "tags": []
   },
   "outputs": [],
   "source": [
    "!rm {model_save_path}/* -rf"
   ]
  },
  {
   "cell_type": "code",
   "execution_count": 17,
   "id": "67fd090e-b2c2-40a0-9394-065fcf356bb8",
   "metadata": {
    "tags": []
   },
   "outputs": [],
   "source": [
    "train_data = train_df.to_dict(orient='records')"
   ]
  },
  {
   "cell_type": "code",
   "execution_count": 18,
   "id": "37df4a1d-f1e8-46b5-8b59-63b9bca1a3ec",
   "metadata": {
    "tags": []
   },
   "outputs": [],
   "source": [
    "bin_threshold = train_df['score'].median()"
   ]
  },
  {
   "cell_type": "code",
   "execution_count": 19,
   "id": "657e6edc-8611-45e6-ac66-4ec0d92349a1",
   "metadata": {
    "tags": []
   },
   "outputs": [],
   "source": [
    "label2id = { k:v for v,k in enumerate(sorted(score_recover_func(train_df['score'].sort_values().unique()).tolist()))}"
   ]
  },
  {
   "cell_type": "code",
   "execution_count": 20,
   "id": "529bb68f-a453-41a5-950c-35ce0cb5b133",
   "metadata": {
    "tags": []
   },
   "outputs": [],
   "source": [
    "label_conversion = {\n",
    "    \"none\": lambda x:x,\n",
    "    \"binned\": lambda x: int(x > bin_threshold),\n",
    "    \"class\": lambda x: label2id[score_recover_func(x)]\n",
    "}"
   ]
  },
  {
   "cell_type": "code",
   "execution_count": 21,
   "id": "ed96e1a8-bdf8-402c-b233-a25505543153",
   "metadata": {
    "tags": []
   },
   "outputs": [],
   "source": [
    "def build_similarity_base(threshold):\n",
    "    similarity_base = {}\n",
    "    for data in train_data:\n",
    "        s1, s2, score = list(data.values())\n",
    "        if s1 not in similarity_base:\n",
    "            similarity_base[s1] = {\"positive\":set(),  \"negative\":set()}\n",
    "        if s2 not in similarity_base:\n",
    "            similarity_base[s2] = {\"positive\":set(),  \"negative\":set()}\n",
    "        if score <= threshold:\n",
    "            similarity_base[s1]['negative'].add(s2)\n",
    "            similarity_base[s2]['negative'].add(s1)\n",
    "        if score > threshold:\n",
    "            similarity_base[s1]['positive'].add(s2)\n",
    "            similarity_base[s2]['positive'].add(s1)  \n",
    "    return similarity_base"
   ]
  },
  {
   "cell_type": "code",
   "execution_count": 22,
   "id": "54bf9e0b-a995-4801-be3a-768df741dc74",
   "metadata": {
    "tags": []
   },
   "outputs": [],
   "source": [
    "similarity_base = build_similarity_base(bin_threshold)"
   ]
  },
  {
   "cell_type": "code",
   "execution_count": 23,
   "id": "11d57b50-306f-4813-9879-d668debfd8b5",
   "metadata": {
    "tags": []
   },
   "outputs": [],
   "source": [
    "def select_triple_component(s1, s2, score, label_transform):\n",
    "    if score > bin_threshold:\n",
    "        hard_neg_set = similarity_base[s1]['negative'] | similarity_base[s2]['negative']\n",
    "        if len(hard_neg_set) == 0:\n",
    "            hard_neg_set = similarity_base.keys()\n",
    "        hard_neg = random.choice(list(hard_neg_set))\n",
    "        return [\n",
    "            InputExample(texts=[s1, s2, hard_neg], label=label_transform(score)), \n",
    "            InputExample(texts=[s2, s1, hard_neg], label=label_transform(score))\n",
    "        ]\n",
    "    else:\n",
    "        s1_pos_set = similarity_base[s1]['positive'] \n",
    "        pos = s1\n",
    "        if len(s1_pos_set) > 0:\n",
    "            pos = random.choice(list(s1_pos_set))\n",
    "            return [\n",
    "                InputExample(texts=[s1, pos, s2], label=label_transform(score)), \n",
    "                InputExample(texts=[pos, s1, s2], label=label_transform(score))\n",
    "            ]\n",
    "        else:\n",
    "            return [InputExample(texts=[s1, pos, s2], label=label_transform(score))]"
   ]
  },
  {
   "cell_type": "code",
   "execution_count": 24,
   "id": "82327a8d-9df7-4583-b38a-cb5c997b34c3",
   "metadata": {
    "tags": []
   },
   "outputs": [],
   "source": [
    "available_loss_functions = {\n",
    "    'MultipleNegativesRankingLoss': (\n",
    "        losses.MultipleNegativesRankingLoss(model,scale=1.0),\n",
    "        label_conversion.get('none')\n",
    "    ),\n",
    "    'TripletLoss': (\n",
    "        losses.TripletLoss(model,triplet_margin=5),\n",
    "        label_conversion.get('none')\n",
    "    ),\n",
    "}"
   ]
  },
  {
   "cell_type": "code",
   "execution_count": 25,
   "id": "d1afec5c-4af9-4641-a7a5-e283fc094ab4",
   "metadata": {
    "tags": []
   },
   "outputs": [],
   "source": [
    "# Choose loss\n",
    "loss_in_use = \"MultipleNegativesRankingLoss\""
   ]
  },
  {
   "cell_type": "code",
   "execution_count": 26,
   "id": "c31d33bf-9894-4732-85b9-2f876763e7c1",
   "metadata": {
    "tags": []
   },
   "outputs": [],
   "source": [
    "loss_func, label_transform = available_loss_functions.get(loss_in_use)"
   ]
  },
  {
   "cell_type": "code",
   "execution_count": 27,
   "id": "dbef4c48-0f67-40cd-b02b-917b971cf3cb",
   "metadata": {
    "tags": []
   },
   "outputs": [],
   "source": [
    "train_samples = []\n",
    "for x in train_data:\n",
    "    s1,s2,score = list(x.values())\n",
    "    components = select_triple_component(s1, s2, score, label_transform)\n",
    "    train_samples.extend(components)\n"
   ]
  },
  {
   "cell_type": "code",
   "execution_count": 28,
   "id": "bb4a5211-04ef-4953-9d3d-29a8be918c13",
   "metadata": {},
   "outputs": [],
   "source": [
    "train_dataloader = datasets.NoDuplicatesDataLoader(train_samples, batch_size=train_batch_size)"
   ]
  },
  {
   "cell_type": "code",
   "execution_count": 29,
   "id": "a98808a5-9430-4ac0-9c8c-371931be0c5f",
   "metadata": {
    "tags": []
   },
   "outputs": [],
   "source": [
    "dev_data = dev_df.to_dict(orient='records')"
   ]
  },
  {
   "cell_type": "code",
   "execution_count": 30,
   "id": "0d23196b-ab08-4876-bfae-aa2a4e84e534",
   "metadata": {
    "tags": []
   },
   "outputs": [],
   "source": [
    "dev_samples = []\n",
    "for x in dev_data:\n",
    "    s1,s2,score = list(x.values())\n",
    "    dev_samples.append(InputExample(texts=[s1, s2], label=score))"
   ]
  },
  {
   "cell_type": "code",
   "execution_count": 31,
   "id": "804f4283-78fd-4ba6-9a7f-c39508e534b9",
   "metadata": {
    "tags": []
   },
   "outputs": [],
   "source": [
    "test_data = test_df.to_dict(orient='records')"
   ]
  },
  {
   "cell_type": "code",
   "execution_count": 32,
   "id": "64dbcd35-aa7b-491e-ab07-0511da10468d",
   "metadata": {
    "tags": []
   },
   "outputs": [],
   "source": [
    "test_samples = []\n",
    "for x in test_data:\n",
    "    s1,s2,score = list(x.values())\n",
    "    test_samples.append(InputExample(texts=[s1, s2], label=score))"
   ]
  },
  {
   "cell_type": "code",
   "execution_count": 33,
   "id": "1c485713-d2b7-4196-83a9-56ec25a910e4",
   "metadata": {
    "tags": []
   },
   "outputs": [],
   "source": [
    "dev_evaluator = EmbeddingSimilarityEvaluator.from_input_examples(\n",
    "    dev_samples, batch_size=train_batch_size, name=\"emp-dev\"\n",
    ")\n",
    "test_evaluator = EmbeddingSimilarityEvaluator.from_input_examples(\n",
    "    test_samples, batch_size=train_batch_size, name=\"emp-test\"\n",
    ")\n"
   ]
  },
  {
   "cell_type": "code",
   "execution_count": 34,
   "id": "02c773f4-ee1c-4335-bfba-bc71d6401816",
   "metadata": {
    "tags": []
   },
   "outputs": [],
   "source": [
    "warmup_steps = math.ceil(len(train_dataloader) * num_epochs * 0.3)"
   ]
  },
  {
   "cell_type": "code",
   "execution_count": 35,
   "id": "f1a2f890-709e-426a-93c6-69fc5071c10d",
   "metadata": {
    "tags": []
   },
   "outputs": [
    {
     "data": {
      "text/plain": [
       "38"
      ]
     },
     "execution_count": 35,
     "metadata": {},
     "output_type": "execute_result"
    }
   ],
   "source": [
    "warmup_steps"
   ]
  },
  {
   "cell_type": "code",
   "execution_count": 36,
   "id": "be784933-d207-400f-905c-5d0847b137cc",
   "metadata": {
    "tags": []
   },
   "outputs": [
    {
     "data": {
      "text/plain": [
       "42"
      ]
     },
     "execution_count": 36,
     "metadata": {},
     "output_type": "execute_result"
    }
   ],
   "source": [
    "len(train_dataloader)"
   ]
  },
  {
   "cell_type": "code",
   "execution_count": 37,
   "id": "fcc308cc-9a82-4d51-b052-230aacb72d13",
   "metadata": {
    "tags": []
   },
   "outputs": [
    {
     "data": {
      "text/plain": [
       "420"
      ]
     },
     "execution_count": 37,
     "metadata": {},
     "output_type": "execute_result"
    }
   ],
   "source": [
    "int(len(train_dataloader) * 10)"
   ]
  },
  {
   "cell_type": "code",
   "execution_count": 38,
   "id": "30195437-ca67-4e43-b6f5-e9e388dc7ae6",
   "metadata": {
    "tags": []
   },
   "outputs": [
    {
     "data": {
      "application/vnd.jupyter.widget-view+json": {
       "model_id": "676ed9d17f224e56bb82bc0e3aa37c23",
       "version_major": 2,
       "version_minor": 0
      },
      "text/plain": [
       "Epoch:   0%|          | 0/3 [00:00<?, ?it/s]"
      ]
     },
     "metadata": {},
     "output_type": "display_data"
    },
    {
     "data": {
      "application/vnd.jupyter.widget-view+json": {
       "model_id": "746e2af954bd492b990b832a5023cdbe",
       "version_major": 2,
       "version_minor": 0
      },
      "text/plain": [
       "Iteration:   0%|          | 0/42 [00:00<?, ?it/s]"
      ]
     },
     "metadata": {},
     "output_type": "display_data"
    },
    {
     "data": {
      "application/vnd.jupyter.widget-view+json": {
       "model_id": "966fcf7128144c61aa58c224034d7c31",
       "version_major": 2,
       "version_minor": 0
      },
      "text/plain": [
       "Iteration:   0%|          | 0/42 [00:00<?, ?it/s]"
      ]
     },
     "metadata": {},
     "output_type": "display_data"
    },
    {
     "data": {
      "application/vnd.jupyter.widget-view+json": {
       "model_id": "be7bae5c2d084386b2638cf91bb7dfc1",
       "version_major": 2,
       "version_minor": 0
      },
      "text/plain": [
       "Iteration:   0%|          | 0/42 [00:00<?, ?it/s]"
      ]
     },
     "metadata": {},
     "output_type": "display_data"
    }
   ],
   "source": [
    "# Train the model\n",
    "model.fit(\n",
    "    train_objectives=[(train_dataloader, loss_func)],\n",
    "    evaluator=dev_evaluator,\n",
    "    epochs=num_epochs,\n",
    "    evaluation_steps=15,\n",
    "    warmup_steps=warmup_steps,\n",
    "    output_path=model_save_path,\n",
    "    use_amp=True,  # Set to True, if your GPU supports FP16 operations\n",
    ")\n"
   ]
  },
  {
   "cell_type": "code",
   "execution_count": 39,
   "id": "cd76d039-c000-413d-8e24-5b32cdf63a94",
   "metadata": {
    "tags": []
   },
   "outputs": [],
   "source": [
    "def eval_final(data_split, evaluator, score_recover_func, split_name='dev'):\n",
    "    evaluator(model, model_save_path)\n",
    "    output_name = !ls {model_save_path}/similarity_evaluation_emp-{split_name}_results.csv\n",
    "    sp_df = pd.read_csv(output_name[0])['cosine_pearson\tcosine_spearman'.split()]\n",
    "    s1 = list(map(lambda x:x['sentence1'], data_split))\n",
    "    s2 = list(map(lambda x:x['sentence2'], data_split))\n",
    "    score = list(map(lambda x:x['score'], data_split))\n",
    "    bin_labels = (score_recover_func(np.array(score)) >2.5).astype(np.int64)\n",
    "    s1_embeddings = model.encode(s1)\n",
    "    s2_embeddings = model.encode(s2)\n",
    "    predicted_cosine_scores = util.pairwise_cos_sim(s1_embeddings, s2_embeddings)\n",
    "    s = scipy.stats.spearmanr(score, predicted_cosine_scores.numpy())\n",
    "    p = scipy.stats.pearsonr(score, predicted_cosine_scores.numpy())\n",
    "    pred_labels = (score_recover_func(predicted_cosine_scores) >2.5).long().numpy()\n",
    "    cls_df = pd.DataFrame(metrics.classification_report(bin_labels, pred_labels,output_dict=True)).T\n",
    "    return cls_df, sp_df, predicted_cosine_scores, score, pred_labels, bin_labels"
   ]
  },
  {
   "cell_type": "code",
   "execution_count": 40,
   "id": "9eab591d-97b8-47ba-b8be-aeb20cfc9ecf",
   "metadata": {
    "tags": []
   },
   "outputs": [
    {
     "name": "stderr",
     "output_type": "stream",
     "text": [
      "huggingface/tokenizers: The current process just got forked, after parallelism has already been used. Disabling parallelism to avoid deadlocks...\n",
      "To disable this warning, you can either:\n",
      "\t- Avoid using `tokenizers` before the fork if possible\n",
      "\t- Explicitly set the environment variable TOKENIZERS_PARALLELISM=(true | false)\n"
     ]
    }
   ],
   "source": [
    "dev_cls_df, dev_sp_df, predicted_dev_scores, dev_score, pred_dev_labels, gt_dev_labels = eval_final(dev_data, dev_evaluator, score_recover_func, split_name='dev')"
   ]
  },
  {
   "cell_type": "code",
   "execution_count": 41,
   "id": "6a84362e-14c1-48be-bc5c-496713e3538c",
   "metadata": {
    "tags": []
   },
   "outputs": [
    {
     "name": "stderr",
     "output_type": "stream",
     "text": [
      "huggingface/tokenizers: The current process just got forked, after parallelism has already been used. Disabling parallelism to avoid deadlocks...\n",
      "To disable this warning, you can either:\n",
      "\t- Avoid using `tokenizers` before the fork if possible\n",
      "\t- Explicitly set the environment variable TOKENIZERS_PARALLELISM=(true | false)\n"
     ]
    }
   ],
   "source": [
    "test_cls_df, test_sp_df, predicted_test_scores, test_score, pred_test_labels, gt_test_labels = eval_final(test_data, test_evaluator, score_recover_func, split_name='test')"
   ]
  },
  {
   "cell_type": "code",
   "execution_count": 42,
   "id": "0067cb19-688e-4c46-835c-97e868e8a1b4",
   "metadata": {
    "tags": []
   },
   "outputs": [
    {
     "data": {
      "text/html": [
       "<div>\n",
       "<style scoped>\n",
       "    .dataframe tbody tr th:only-of-type {\n",
       "        vertical-align: middle;\n",
       "    }\n",
       "\n",
       "    .dataframe tbody tr th {\n",
       "        vertical-align: top;\n",
       "    }\n",
       "\n",
       "    .dataframe thead th {\n",
       "        text-align: right;\n",
       "    }\n",
       "</style>\n",
       "<table border=\"1\" class=\"dataframe\">\n",
       "  <thead>\n",
       "    <tr style=\"text-align: right;\">\n",
       "      <th></th>\n",
       "      <th>cosine_pearson</th>\n",
       "      <th>cosine_spearman</th>\n",
       "    </tr>\n",
       "  </thead>\n",
       "  <tbody>\n",
       "    <tr>\n",
       "      <th>0</th>\n",
       "      <td>0.420966</td>\n",
       "      <td>0.401462</td>\n",
       "    </tr>\n",
       "  </tbody>\n",
       "</table>\n",
       "</div>"
      ],
      "text/plain": [
       "   cosine_pearson  cosine_spearman\n",
       "0        0.420966         0.401462"
      ]
     },
     "execution_count": 42,
     "metadata": {},
     "output_type": "execute_result"
    }
   ],
   "source": [
    "dev_sp_df"
   ]
  },
  {
   "cell_type": "code",
   "execution_count": 43,
   "id": "dcd83253-7575-44ba-ab1e-fbcde07c02b6",
   "metadata": {
    "tags": []
   },
   "outputs": [
    {
     "data": {
      "text/html": [
       "<div>\n",
       "<style scoped>\n",
       "    .dataframe tbody tr th:only-of-type {\n",
       "        vertical-align: middle;\n",
       "    }\n",
       "\n",
       "    .dataframe tbody tr th {\n",
       "        vertical-align: top;\n",
       "    }\n",
       "\n",
       "    .dataframe thead th {\n",
       "        text-align: right;\n",
       "    }\n",
       "</style>\n",
       "<table border=\"1\" class=\"dataframe\">\n",
       "  <thead>\n",
       "    <tr style=\"text-align: right;\">\n",
       "      <th></th>\n",
       "      <th>precision</th>\n",
       "      <th>recall</th>\n",
       "      <th>f1-score</th>\n",
       "      <th>support</th>\n",
       "    </tr>\n",
       "  </thead>\n",
       "  <tbody>\n",
       "    <tr>\n",
       "      <th>0</th>\n",
       "      <td>0.779661</td>\n",
       "      <td>0.741935</td>\n",
       "      <td>0.760331</td>\n",
       "      <td>62.00</td>\n",
       "    </tr>\n",
       "    <tr>\n",
       "      <th>1</th>\n",
       "      <td>0.609756</td>\n",
       "      <td>0.657895</td>\n",
       "      <td>0.632911</td>\n",
       "      <td>38.00</td>\n",
       "    </tr>\n",
       "    <tr>\n",
       "      <th>accuracy</th>\n",
       "      <td>0.710000</td>\n",
       "      <td>0.710000</td>\n",
       "      <td>0.710000</td>\n",
       "      <td>0.71</td>\n",
       "    </tr>\n",
       "    <tr>\n",
       "      <th>macro avg</th>\n",
       "      <td>0.694709</td>\n",
       "      <td>0.699915</td>\n",
       "      <td>0.696621</td>\n",
       "      <td>100.00</td>\n",
       "    </tr>\n",
       "    <tr>\n",
       "      <th>weighted avg</th>\n",
       "      <td>0.715097</td>\n",
       "      <td>0.710000</td>\n",
       "      <td>0.711911</td>\n",
       "      <td>100.00</td>\n",
       "    </tr>\n",
       "  </tbody>\n",
       "</table>\n",
       "</div>"
      ],
      "text/plain": [
       "              precision    recall  f1-score  support\n",
       "0              0.779661  0.741935  0.760331    62.00\n",
       "1              0.609756  0.657895  0.632911    38.00\n",
       "accuracy       0.710000  0.710000  0.710000     0.71\n",
       "macro avg      0.694709  0.699915  0.696621   100.00\n",
       "weighted avg   0.715097  0.710000  0.711911   100.00"
      ]
     },
     "execution_count": 43,
     "metadata": {},
     "output_type": "execute_result"
    }
   ],
   "source": [
    "dev_cls_df"
   ]
  },
  {
   "cell_type": "code",
   "execution_count": 44,
   "id": "ef4c2eb5-2bbe-47e8-9389-035f7e4da5c2",
   "metadata": {
    "tags": []
   },
   "outputs": [
    {
     "data": {
      "text/html": [
       "<div>\n",
       "<style scoped>\n",
       "    .dataframe tbody tr th:only-of-type {\n",
       "        vertical-align: middle;\n",
       "    }\n",
       "\n",
       "    .dataframe tbody tr th {\n",
       "        vertical-align: top;\n",
       "    }\n",
       "\n",
       "    .dataframe thead th {\n",
       "        text-align: right;\n",
       "    }\n",
       "</style>\n",
       "<table border=\"1\" class=\"dataframe\">\n",
       "  <thead>\n",
       "    <tr style=\"text-align: right;\">\n",
       "      <th></th>\n",
       "      <th>cosine_pearson</th>\n",
       "      <th>cosine_spearman</th>\n",
       "    </tr>\n",
       "  </thead>\n",
       "  <tbody>\n",
       "    <tr>\n",
       "      <th>0</th>\n",
       "      <td>0.361585</td>\n",
       "      <td>0.358364</td>\n",
       "    </tr>\n",
       "  </tbody>\n",
       "</table>\n",
       "</div>"
      ],
      "text/plain": [
       "   cosine_pearson  cosine_spearman\n",
       "0        0.361585         0.358364"
      ]
     },
     "execution_count": 44,
     "metadata": {},
     "output_type": "execute_result"
    }
   ],
   "source": [
    "test_sp_df"
   ]
  },
  {
   "cell_type": "code",
   "execution_count": 45,
   "id": "80113fbc-6964-4d5f-91fd-14fb4244e099",
   "metadata": {},
   "outputs": [
    {
     "data": {
      "text/html": [
       "<div>\n",
       "<style scoped>\n",
       "    .dataframe tbody tr th:only-of-type {\n",
       "        vertical-align: middle;\n",
       "    }\n",
       "\n",
       "    .dataframe tbody tr th {\n",
       "        vertical-align: top;\n",
       "    }\n",
       "\n",
       "    .dataframe thead th {\n",
       "        text-align: right;\n",
       "    }\n",
       "</style>\n",
       "<table border=\"1\" class=\"dataframe\">\n",
       "  <thead>\n",
       "    <tr style=\"text-align: right;\">\n",
       "      <th></th>\n",
       "      <th>precision</th>\n",
       "      <th>recall</th>\n",
       "      <th>f1-score</th>\n",
       "      <th>support</th>\n",
       "    </tr>\n",
       "  </thead>\n",
       "  <tbody>\n",
       "    <tr>\n",
       "      <th>0</th>\n",
       "      <td>0.634286</td>\n",
       "      <td>0.569231</td>\n",
       "      <td>0.600000</td>\n",
       "      <td>195.00</td>\n",
       "    </tr>\n",
       "    <tr>\n",
       "      <th>1</th>\n",
       "      <td>0.626667</td>\n",
       "      <td>0.687805</td>\n",
       "      <td>0.655814</td>\n",
       "      <td>205.00</td>\n",
       "    </tr>\n",
       "    <tr>\n",
       "      <th>accuracy</th>\n",
       "      <td>0.630000</td>\n",
       "      <td>0.630000</td>\n",
       "      <td>0.630000</td>\n",
       "      <td>0.63</td>\n",
       "    </tr>\n",
       "    <tr>\n",
       "      <th>macro avg</th>\n",
       "      <td>0.630476</td>\n",
       "      <td>0.628518</td>\n",
       "      <td>0.627907</td>\n",
       "      <td>400.00</td>\n",
       "    </tr>\n",
       "    <tr>\n",
       "      <th>weighted avg</th>\n",
       "      <td>0.630381</td>\n",
       "      <td>0.630000</td>\n",
       "      <td>0.628605</td>\n",
       "      <td>400.00</td>\n",
       "    </tr>\n",
       "  </tbody>\n",
       "</table>\n",
       "</div>"
      ],
      "text/plain": [
       "              precision    recall  f1-score  support\n",
       "0              0.634286  0.569231  0.600000   195.00\n",
       "1              0.626667  0.687805  0.655814   205.00\n",
       "accuracy       0.630000  0.630000  0.630000     0.63\n",
       "macro avg      0.630476  0.628518  0.627907   400.00\n",
       "weighted avg   0.630381  0.630000  0.628605   400.00"
      ]
     },
     "execution_count": 45,
     "metadata": {},
     "output_type": "execute_result"
    }
   ],
   "source": [
    "test_cls_df"
   ]
  },
  {
   "cell_type": "code",
   "execution_count": 46,
   "id": "a7549abf-3767-4105-8ade-27f0a2318fb8",
   "metadata": {
    "tags": []
   },
   "outputs": [
    {
     "data": {
      "text/plain": [
       "(array([ 7.,  7., 19., 43., 50., 87., 79., 64., 34., 10.]),\n",
       " array([-0.03873561,  0.05790433,  0.15454426,  0.25118423,  0.34782416,\n",
       "         0.44446409,  0.54110402,  0.63774395,  0.73438394,  0.83102387,\n",
       "         0.9276638 ]),\n",
       " <BarContainer object of 10 artists>)"
      ]
     },
     "execution_count": 46,
     "metadata": {},
     "output_type": "execute_result"
    },
    {
     "data": {
      "image/png": "[encoded data removed]",
      "text/plain": [
       "<Figure size 640x480 with 4 Axes>"
      ]
     },
     "metadata": {},
     "output_type": "display_data"
    }
   ],
   "source": [
    "fig,axs = plt.subplots(2,2)\n",
    "axs[0,0].hist(dev_score)\n",
    "axs[0,1].hist(test_score)\n",
    "axs[1,0].hist(predicted_dev_scores)\n",
    "axs[1,1].hist(predicted_test_scores)"
   ]
  },
  {
   "cell_type": "code",
   "execution_count": null,
   "id": "78f06d01-101a-4a20-a7c6-58e5f41ce535",
   "metadata": {},
   "outputs": [],
   "source": []
  },
  {
   "cell_type": "code",
   "execution_count": null,
   "id": "bb3cf47d-a315-4728-97a7-97148eb06539",
   "metadata": {},
   "outputs": [],
   "source": []
  }
 ],
 "metadata": {
  "kernelspec": {
   "display_name": "Python 3 (ipykernel)",
   "language": "python",
   "name": "python3"
  },
  "language_info": {
   "codemirror_mode": {
    "name": "ipython",
    "version": 3
   },
   "file_extension": ".py",
   "mimetype": "text/x-python",
   "name": "python",
   "nbconvert_exporter": "python",
   "pygments_lexer": "ipython3",
   "version": "3.8.17"
  }
 },
 "nbformat": 4,
 "nbformat_minor": 5
}
